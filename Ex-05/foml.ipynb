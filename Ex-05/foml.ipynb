{
  "nbformat": 4,
  "nbformat_minor": 0,
  "metadata": {
    "colab": {
      "provenance": []
    },
    "kernelspec": {
      "name": "python3",
      "display_name": "Python 3"
    },
    "language_info": {
      "name": "python"
    }
  },
  "cells": [
    {
      "cell_type": "code",
      "execution_count": null,
      "metadata": {
        "id": "PZ91slmuIqoC"
      },
      "outputs": [],
      "source": []
    },
    {
      "cell_type": "code",
      "source": [
        "import pandas as pd\n",
        "import numpy as np\n",
        "import matplotlib.pyplot as plt\n",
        "import seaborn as sns\n",
        "from sklearn.model_selection import train_test_split\n",
        "from sklearn.preprocessing import PolynomialFeatures\n",
        "from sklearn.linear_model import LinearRegression\n",
        "df=pd.read_csv('Position_Salaries.csv')\n",
        "df.head()\n",
        "\n",
        "plt.title(\"Polyonomial Regression\\n\\nSalary vs Level\")\n",
        "plt.scatter(df['Level'], df['Salary'], color = 'lightcoral')\n",
        "plt.xlabel('Level')\n",
        "plt.ylabel('Salary')\n",
        "plt.box(False)\n",
        "plt.show()\n",
        "\n",
        "X = df.iloc[:, 1:-1].values  # independent\n",
        "y = df.iloc[:, -1].values  # dependent\n",
        "lr = LinearRegression()\n",
        "lr.fit(X, y)\n",
        "\n",
        "# Train polynomial regression model on the whole dataset\n",
        "pr = PolynomialFeatures(degree = 4)\n",
        "X_poly = pr.fit_transform(X)\n",
        "lr_2 = LinearRegression()\n",
        "lr_2.fit(X_poly, y)\n",
        "y_pred_lr = lr.predict(X)           # Linear Regression\n",
        "y_pred_poly = lr_2.predict(X_poly)  # Polynomial Regression\n",
        "# Visualize real data with polynomial regression\n",
        "X_grid = np.arange(min(X), max(X), 0.1)\n",
        "X_grid = X_grid.reshape((len(X_grid), 1))\n",
        "plt.scatter(X, y, color = 'lightcoral')\n",
        "plt.plot(X, lr_2.predict(X_poly), color = 'firebrick')\n",
        "plt.title('Real data (Polynomial Regression)')\n",
        "plt.xlabel('Position Level')\n",
        "plt.ylabel('Salary')\n",
        "plt.legend(['X/y_pred_poly', 'X/y'], title = 'Salary/Level', loc='best', facecolor='white')\n",
        "plt.box(False)\n",
        "plt.show()"
      ],
      "metadata": {
        "id": "HtxRlOEOI0pn"
      },
      "execution_count": null,
      "outputs": []
    }
  ]
}